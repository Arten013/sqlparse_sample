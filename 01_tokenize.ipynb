{
 "cells": [
  {
   "cell_type": "code",
   "execution_count": 1,
   "metadata": {},
   "outputs": [],
   "source": [
    "import sqlparse"
   ]
  },
  {
   "cell_type": "code",
   "execution_count": 2,
   "metadata": {},
   "outputs": [],
   "source": [
    "sql_1 = \"SELECT id, age, gender FROM hoge_table WHERE age > 10;\""
   ]
  },
  {
   "cell_type": "code",
   "execution_count": 3,
   "metadata": {},
   "outputs": [
    {
     "data": {
      "text/plain": [
       "[<DML 'SELECT' at 0x1055F93A8>,\n",
       " <Whitespace ' ' at 0x1055F9468>,\n",
       " <Name 'id' at 0x1055F94C8>,\n",
       " <Punctuation ',' at 0x1055F9528>,\n",
       " <Whitespace ' ' at 0x1055F9588>,\n",
       " <Name 'age' at 0x1055F95E8>,\n",
       " <Punctuation ',' at 0x1055F9648>,\n",
       " <Whitespace ' ' at 0x1055F96A8>,\n",
       " <Name 'gender' at 0x1055F9708>,\n",
       " <Whitespace ' ' at 0x1055F9768>,\n",
       " <Keyword 'FROM' at 0x1055F97C8>,\n",
       " <Whitespace ' ' at 0x1055F9828>,\n",
       " <Name 'hoge_t...' at 0x1055F9888>,\n",
       " <Whitespace ' ' at 0x1055F98E8>,\n",
       " <Keyword 'WHERE' at 0x1055F9948>,\n",
       " <Whitespace ' ' at 0x1055F99A8>,\n",
       " <Name 'age' at 0x1055F9A08>,\n",
       " <Whitespace ' ' at 0x1055F9A68>,\n",
       " <Comparison '>' at 0x1055F9AC8>,\n",
       " <Whitespace ' ' at 0x1055F9B28>,\n",
       " <Integer '10' at 0x1055F9B88>,\n",
       " <Punctuation ';' at 0x1055F9BE8>]"
      ]
     },
     "execution_count": 3,
     "metadata": {},
     "output_type": "execute_result"
    }
   ],
   "source": [
    "parsed_queries = sqlparse.parse(sql_1)\n",
    "parsed_query = parsed_queries[0]\n",
    "list(parsed_query.flatten())"
   ]
  },
  {
   "cell_type": "code",
   "execution_count": 4,
   "metadata": {},
   "outputs": [],
   "source": [
    "sql_2 = \"\"\"\n",
    "-- hoge\n",
    "SELECT hoge FROM t1;\n",
    "-- fuga\n",
    "SELECT fuga FROM t2;\n",
    "-- piyo\n",
    "SELECT piyo FROM t3;\"\"\""
   ]
  },
  {
   "cell_type": "code",
   "execution_count": 5,
   "metadata": {},
   "outputs": [
    {
     "data": {
      "text/plain": [
       "(<Statement ' -- ho...' at 0x1055D19A8>,\n",
       " <Statement ' -- fu...' at 0x1055D1C00>,\n",
       " <Statement ' -- pi...' at 0x1055D1A20>)"
      ]
     },
     "execution_count": 5,
     "metadata": {},
     "output_type": "execute_result"
    }
   ],
   "source": [
    "sqlparse.parse(sql_2)"
   ]
  },
  {
   "cell_type": "code",
   "execution_count": null,
   "metadata": {},
   "outputs": [],
   "source": []
  }
 ],
 "metadata": {
  "kernelspec": {
   "display_name": "Python 3",
   "language": "python",
   "name": "python3"
  },
  "language_info": {
   "codemirror_mode": {
    "name": "ipython",
    "version": 3
   },
   "file_extension": ".py",
   "mimetype": "text/x-python",
   "name": "python",
   "nbconvert_exporter": "python",
   "pygments_lexer": "ipython3",
   "version": "3.6.4"
  }
 },
 "nbformat": 4,
 "nbformat_minor": 2
}
